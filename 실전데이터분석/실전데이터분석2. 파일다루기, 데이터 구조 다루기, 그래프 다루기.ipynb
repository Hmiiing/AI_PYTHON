{
 "cells": [
  {
   "cell_type": "markdown",
   "metadata": {},
   "source": [
    "# 1. 파일 다루기"
   ]
  },
  {
   "cell_type": "markdown",
   "metadata": {},
   "source": [
    "## 파일 열기/닫기"
   ]
  },
  {
   "cell_type": "code",
   "execution_count": 7,
   "metadata": {},
   "outputs": [],
   "source": [
    "file = open('data.txt') #열기\n",
    "content = file.read() #읽기\n",
    "file.close() #닫기"
   ]
  },
  {
   "cell_type": "markdown",
   "metadata": {},
   "source": [
    "## 파일 자동으로 닫기"
   ]
  },
  {
   "cell_type": "code",
   "execution_count": 8,
   "metadata": {},
   "outputs": [
    {
     "name": "stdout",
     "output_type": "stream",
     "text": [
      "Hello\n",
      "     My name is Min\n"
     ]
    }
   ],
   "source": [
    "with open('data.txt') as file:\n",
    "    content=file.read() \n",
    "    # 자동으로 닫힘\n",
    "print(content)"
   ]
  },
  {
   "cell_type": "markdown",
   "metadata": {},
   "source": [
    "## 줄 단위로 읽기"
   ]
  },
  {
   "cell_type": "code",
   "execution_count": 10,
   "metadata": {},
   "outputs": [
    {
     "name": "stdout",
     "output_type": "stream",
     "text": [
      "['Hello', 'My name is Min']\n"
     ]
    }
   ],
   "source": [
    "contents=[]\n",
    "with open('data.txt') as file:\n",
    "    for line in file:\n",
    "        contents.append(line.strip())  #앞 뒤 공백 제거\n",
    "print(contents)"
   ]
  },
  {
   "cell_type": "markdown",
   "metadata": {},
   "source": [
    "## 파일의 모드"
   ]
  },
  {
   "cell_type": "code",
   "execution_count": 24,
   "metadata": {},
   "outputs": [],
   "source": [
    "# 쓰기 모드로 파일 열기\n",
    "with open('data.txt','w') as file:\n",
    "    file.write('Hello')"
   ]
  },
  {
   "cell_type": "markdown",
   "metadata": {},
   "source": [
    "# 2. 데이터 구조 다루기"
   ]
  },
  {
   "cell_type": "markdown",
   "metadata": {},
   "source": [
    "## 튜플"
   ]
  },
  {
   "cell_type": "code",
   "execution_count": 2,
   "metadata": {},
   "outputs": [],
   "source": [
    "#튜플\n",
    "colors=('빨','주','초') #원소의 값 수정 불가능"
   ]
  },
  {
   "cell_type": "code",
   "execution_count": 3,
   "metadata": {},
   "outputs": [],
   "source": [
    "#리스트\n",
    "colors_list=['빨','주','초'] "
   ]
  },
  {
   "cell_type": "code",
   "execution_count": 4,
   "metadata": {},
   "outputs": [
    {
     "name": "stdout",
     "output_type": "stream",
     "text": [
      "['빨', '주', '노']\n",
      "['빨', '주', '노', '초']\n"
     ]
    }
   ],
   "source": [
    "## 리스트 변형\n",
    "colors_list[2]='노'\n",
    "print(colors_list)\n",
    "colors_list.append('초')\n",
    "print(colors_list)"
   ]
  },
  {
   "cell_type": "code",
   "execution_count": 5,
   "metadata": {},
   "outputs": [
    {
     "ename": "TypeError",
     "evalue": "'tuple' object does not support item assignment",
     "output_type": "error",
     "traceback": [
      "\u001b[1;31m---------------------------------------------------------------------------\u001b[0m",
      "\u001b[1;31mTypeError\u001b[0m                                 Traceback (most recent call last)",
      "\u001b[1;32m<ipython-input-5-372f7f60ef51>\u001b[0m in \u001b[0;36m<module>\u001b[1;34m\u001b[0m\n\u001b[0;32m      1\u001b[0m \u001b[1;31m## 튜플 변형\u001b[0m\u001b[1;33m\u001b[0m\u001b[1;33m\u001b[0m\u001b[1;33m\u001b[0m\u001b[0m\n\u001b[1;32m----> 2\u001b[1;33m \u001b[0mcolors\u001b[0m\u001b[1;33m[\u001b[0m\u001b[1;36m2\u001b[0m\u001b[1;33m]\u001b[0m\u001b[1;33m=\u001b[0m\u001b[1;34m'노'\u001b[0m  \u001b[1;31m#에러\u001b[0m\u001b[1;33m\u001b[0m\u001b[1;33m\u001b[0m\u001b[0m\n\u001b[0m",
      "\u001b[1;31mTypeError\u001b[0m: 'tuple' object does not support item assignment"
     ]
    }
   ],
   "source": [
    "## 튜플 변형\n",
    "colors[2]='노'  #에러"
   ]
  },
  {
   "cell_type": "code",
   "execution_count": 6,
   "metadata": {},
   "outputs": [
    {
     "ename": "AttributeError",
     "evalue": "'tuple' object has no attribute 'append'",
     "output_type": "error",
     "traceback": [
      "\u001b[1;31m---------------------------------------------------------------------------\u001b[0m",
      "\u001b[1;31mAttributeError\u001b[0m                            Traceback (most recent call last)",
      "\u001b[1;32m<ipython-input-6-e27323279316>\u001b[0m in \u001b[0;36m<module>\u001b[1;34m\u001b[0m\n\u001b[1;32m----> 1\u001b[1;33m \u001b[0mcolors\u001b[0m\u001b[1;33m.\u001b[0m\u001b[0mappend\u001b[0m\u001b[1;33m(\u001b[0m\u001b[1;34m'노'\u001b[0m\u001b[1;33m)\u001b[0m \u001b[1;31m#에러\u001b[0m\u001b[1;33m\u001b[0m\u001b[1;33m\u001b[0m\u001b[0m\n\u001b[0m",
      "\u001b[1;31mAttributeError\u001b[0m: 'tuple' object has no attribute 'append'"
     ]
    }
   ],
   "source": [
    "colors.append('노') #에러"
   ]
  },
  {
   "cell_type": "code",
   "execution_count": 59,
   "metadata": {},
   "outputs": [],
   "source": [
    "colors=('빨','주','노') #새로운 튜플로 만들면 수정 가능"
   ]
  },
  {
   "cell_type": "markdown",
   "metadata": {},
   "source": [
    "## 리스트로 리스트 만들기"
   ]
  },
  {
   "cell_type": "code",
   "execution_count": 44,
   "metadata": {},
   "outputs": [
    {
     "name": "stdout",
     "output_type": "stream",
     "text": [
      "['r', 'o', 'y']\n"
     ]
    }
   ],
   "source": [
    "rainbow=['red','orange','yellow']\n",
    "first_letters=[]\n",
    "for word in rainbow:\n",
    "    first_letters.append(word[0])\n",
    "print(first_letters)"
   ]
  },
  {
   "cell_type": "code",
   "execution_count": 13,
   "metadata": {},
   "outputs": [
    {
     "name": "stdout",
     "output_type": "stream",
     "text": [
      "['r', 'o', 'y']\n"
     ]
    }
   ],
   "source": [
    "#fancy code\n",
    "first_letters=[word[0] for word in rainbow]\n",
    "print(first_letters)"
   ]
  },
  {
   "cell_type": "code",
   "execution_count": 15,
   "metadata": {},
   "outputs": [
    {
     "name": "stdout",
     "output_type": "stream",
     "text": [
      "[1, 3, 5, 7, 9]\n"
     ]
    }
   ],
   "source": [
    "numbers=[2,4,6,8,10]\n",
    "odds=[]\n",
    "for num in numbers:\n",
    "    odds.append(num-1)\n",
    "print(odds)"
   ]
  },
  {
   "cell_type": "code",
   "execution_count": 16,
   "metadata": {},
   "outputs": [
    {
     "name": "stdout",
     "output_type": "stream",
     "text": [
      "[1, 3, 5, 7, 9]\n"
     ]
    }
   ],
   "source": [
    "odds=[num-1 for num in numbers]\n",
    "print(odds)"
   ]
  },
  {
   "cell_type": "markdown",
   "metadata": {},
   "source": [
    "## 특정 원소 걸러내기"
   ]
  },
  {
   "cell_type": "code",
   "execution_count": 19,
   "metadata": {},
   "outputs": [
    {
     "name": "stdout",
     "output_type": "stream",
     "text": [
      "[2, 4, 6, 8, 10]\n"
     ]
    }
   ],
   "source": [
    "numbers=[1,2,3,4,5,6,7,8,9,10]\n",
    "even=[]\n",
    "for num in numbers:\n",
    "    if num%2==0:\n",
    "        even.append(num)\n",
    "print(even)"
   ]
  },
  {
   "cell_type": "code",
   "execution_count": 22,
   "metadata": {},
   "outputs": [
    {
     "name": "stdout",
     "output_type": "stream",
     "text": [
      "[2, 4, 6, 8, 10]\n"
     ]
    }
   ],
   "source": [
    "even=[num for num in numbers if num%2 == 0]\n",
    "print(even)"
   ]
  },
  {
   "cell_type": "markdown",
   "metadata": {},
   "source": [
    "## 데이터 정렬하기"
   ]
  },
  {
   "cell_type": "code",
   "execution_count": 25,
   "metadata": {},
   "outputs": [
    {
     "data": {
      "text/plain": [
       "[0, 5, 5, 6, -6, 7, 8, 8, -8]"
      ]
     },
     "execution_count": 25,
     "metadata": {},
     "output_type": "execute_result"
    }
   ],
   "source": [
    "numbers=[5,8,7,6,-6,0,5,8,-8]\n",
    "sort_num=sorted(numbers,key=abs) #절댓값 기준으로 정렬\n",
    "print(sort_num)"
   ]
  },
  {
   "cell_type": "code",
   "execution_count": 27,
   "metadata": {},
   "outputs": [
    {
     "name": "stdout",
     "output_type": "stream",
     "text": [
      "['orange', 'red', 'yellow']\n"
     ]
    }
   ],
   "source": [
    "rainbow=['red','orange','yellow']\n",
    "sort_rainbow=sorted(rainbow)\n",
    "print(sort_rainbow)"
   ]
  },
  {
   "cell_type": "code",
   "execution_count": 30,
   "metadata": {},
   "outputs": [
    {
     "name": "stdout",
     "output_type": "stream",
     "text": [
      "['red', 'orange', 'yellow']\n"
     ]
    }
   ],
   "source": [
    "def reverse(word):\n",
    "    return str(reversed(word))\n",
    "reversed_rainbow=sorted(rainbow,key=reverse) # 마지막 글자 기준 정렬\n",
    "print(reversed_rainbow)"
   ]
  },
  {
   "cell_type": "markdown",
   "metadata": {},
   "source": [
    "# 3. 그래프 다루기"
   ]
  },
  {
   "cell_type": "markdown",
   "metadata": {},
   "source": [
    "## matplotlib"
   ]
  },
  {
   "cell_type": "code",
   "execution_count": 36,
   "metadata": {},
   "outputs": [
    {
     "data": {
      "image/png": "[encoded data removed]",
      "text/plain": [
       "<Figure size 432x288 with 1 Axes>"
      ]
     },
     "metadata": {
      "needs_background": "light"
     },
     "output_type": "display_data"
    }
   ],
   "source": [
    "# matplotlib의 일부인 pyplot 라이브러리를 불러옵니다.\n",
    "import matplotlib.pyplot as plt\n",
    "\n",
    "# 월별 평균 기온을 선언합니다. \n",
    "years = [2013, 2014, 2015, 2016, 2017]\n",
    "temperatures = [5, 10, 15, 20, 17]\n",
    "\n",
    "#막대 차트를 출력합니다.   \n",
    "def draw_graph():\n",
    "    # 막대 그래프의 막대 위치를 결정하는 pos를 선언합니다.\n",
    "    pos = range(len(years))  # [0, 1, 2, 3, 4]\n",
    "    \n",
    "    # 높이가 온도인 막대 그래프를 그립니다.\n",
    "    # 각 막대를 가운데 정렬합니다.\n",
    "    plt.bar(pos, temperatures, align='center')\n",
    "    \n",
    "    # 각 막대에 해당되는 연도를 표기합니다.\n",
    "    plt.xticks(pos, years)\n",
    "    \n",
    "    # 그래프를 표시합니다.\n",
    "    plt.savefig('graph.png')\n",
    "    plt.show()\n",
    "draw_graph()"
   ]
  }
 ],
 "metadata": {
  "kernelspec": {
   "display_name": "Python 3",
   "language": "python",
   "name": "python3"
  },
  "language_info": {
   "codemirror_mode": {
    "name": "ipython",
    "version": 3
   },
   "file_extension": ".py",
   "mimetype": "text/x-python",
   "name": "python",
   "nbconvert_exporter": "python",
   "pygments_lexer": "ipython3",
   "version": "3.7.4"
  }
 },
 "nbformat": 4,
 "nbformat_minor": 2
}
