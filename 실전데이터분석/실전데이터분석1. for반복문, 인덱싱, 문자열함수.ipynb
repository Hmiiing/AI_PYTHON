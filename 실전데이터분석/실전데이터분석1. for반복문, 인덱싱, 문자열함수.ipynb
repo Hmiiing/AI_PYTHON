{
 "cells": [
  {
   "cell_type": "markdown",
   "metadata": {},
   "source": [
    "## for 반복문"
   ]
  },
  {
   "cell_type": "code",
   "execution_count": 4,
   "metadata": {},
   "outputs": [
    {
     "name": "stdout",
     "output_type": "stream",
     "text": [
      "0 1 2 3 4 5 6 7 8 9 "
     ]
    }
   ],
   "source": [
    "# 0부터 9까지 출력하기\n",
    "for num in range(10):\n",
    "    print(num,end=' ')"
   ]
  },
  {
   "cell_type": "code",
   "execution_count": 22,
   "metadata": {},
   "outputs": [
    {
     "name": "stdout",
     "output_type": "stream",
     "text": [
      "색 1:흰색\n",
      "색 2:빨강\n",
      "색 3:주황\n",
      "색 4:노랑\n"
     ]
    }
   ],
   "source": [
    "# 리스트 내의 단어 하나씩 가져오기\n",
    "colors=['흰색','빨강','주황','노랑']\n",
    "for i in range(len(colors)):\n",
    "    print('색 '+str(i+1)+':'+ colors[i])"
   ]
  },
  {
   "cell_type": "markdown",
   "metadata": {},
   "source": [
    "# 인덱싱"
   ]
  },
  {
   "cell_type": "code",
   "execution_count": 46,
   "metadata": {},
   "outputs": [
    {
     "name": "stdout",
     "output_type": "stream",
     "text": [
      "colors :  ['흰색', '빨강', '주황', '노랑']\n",
      "colors[-1] :  넷\n",
      "colors[1:3] :  ['빨강', '주황']\n",
      "colors[1:] :  ['빨강', '주황', '노랑']\n",
      "colors[:3] :  ['흰색', '빨강', '주황']\n"
     ]
    }
   ],
   "source": [
    "# 리스트의 일부분 가져오기\n",
    "colors=['흰색','빨강','주황','노랑']\n",
    "print('colors : ',colors)\n",
    "last_color = colors[-1] #마지막원소\n",
    "print('colors[-1] : ',last_num)\n",
    "rainbow = colors[1:3] #index1~2\n",
    "print('colors[1:3] : ',rainbow)\n",
    "no_white = colors[1:] #첫번째 원소 제거\n",
    "print('colors[1:] : ',no_white)\n",
    "no_yellow=colors[:3] #마지막 원소 제거\n",
    "print('colors[:3] : ',no_yellow)"
   ]
  },
  {
   "cell_type": "markdown",
   "metadata": {},
   "source": [
    "## 문자열 인덱싱"
   ]
  },
  {
   "cell_type": "code",
   "execution_count": 55,
   "metadata": {},
   "outputs": [
    {
     "name": "stdout",
     "output_type": "stream",
     "text": [
      "my_name :  ming\n",
      "my_name[3] :  g\n",
      "my_name[:3] :  min\n"
     ]
    }
   ],
   "source": [
    "# 문자열의 일부분 가져오기\n",
    "my_name = 'ming'\n",
    "print('my_name : ', my_name)\n",
    "print('my_name[3] : ',my_name[3])\n",
    "print('my_name[:3] : ',my_name[:3])"
   ]
  },
  {
   "cell_type": "markdown",
   "metadata": {},
   "source": [
    "# 문자열 함수"
   ]
  },
  {
   "cell_type": "markdown",
   "metadata": {},
   "source": [
    "## .startswith()"
   ]
  },
  {
   "cell_type": "code",
   "execution_count": 63,
   "metadata": {},
   "outputs": [
    {
     "name": "stdout",
     "output_type": "stream",
     "text": [
      "True\n",
      "switzerland 는 a로 시작하지않는 단어입니다.\n"
     ]
    }
   ],
   "source": [
    "# 단어의 첫글자 확인하기\n",
    "word = 'switzerland'\n",
    "print(word.startswith('s')) #True\n",
    "if word.startswith('a'):\n",
    "    print(word,'는 a로 시작하는 단어입니다.')\n",
    "else:\n",
    "    print(word,'는 a로 시작하지않는 단어입니다.')"
   ]
  },
  {
   "cell_type": "markdown",
   "metadata": {},
   "source": [
    "## .split()"
   ]
  },
  {
   "cell_type": "code",
   "execution_count": 66,
   "metadata": {},
   "outputs": [
    {
     "name": "stdout",
     "output_type": "stream",
     "text": [
      "['My', 'name', 'is', 'ming.']\n",
      "['흰색', '빨강', '주황', '노랑']\n"
     ]
    }
   ],
   "source": [
    "#공백 단위로 분리하기\n",
    "intro = 'My name is Ming.'\n",
    "print(intro.split())\n",
    "#, 단위로 분리하기\n",
    "colors='흰색,빨강,주황,노랑'\n",
    "print(colors.split(','))"
   ]
  },
  {
   "cell_type": "code",
   "execution_count": 70,
   "metadata": {},
   "outputs": [
    {
     "name": "stdout",
     "output_type": "stream",
     "text": [
      "['1', '2', '3', '4']\n",
      "['', '', '', '', '', '', '', '1', '', '2', '', '', '', '3', '', '4', '', '', '', '', '', '', '']\n"
     ]
    }
   ],
   "source": [
    "# 공백이 많은 문자열\n",
    "numbers='       1  2    3  4       '\n",
    "print(numbers.split()) #공백 제거\n",
    "print(numbers.split(' ')) #공백 제거x"
   ]
  },
  {
   "cell_type": "markdown",
   "metadata": {},
   "source": [
    "## .append()"
   ]
  },
  {
   "cell_type": "code",
   "execution_count": 74,
   "metadata": {},
   "outputs": [
    {
     "name": "stdout",
     "output_type": "stream",
     "text": [
      "[3]\n",
      "[3, 6]\n"
     ]
    }
   ],
   "source": [
    "# 새로운 요소 추가하기\n",
    "구구단=[]\n",
    "구구단.append(3)\n",
    "print(구구단)\n",
    "구구단.append(6)\n",
    "print(구구단)"
   ]
  },
  {
   "cell_type": "code",
   "execution_count": 77,
   "metadata": {},
   "outputs": [
    {
     "name": "stdout",
     "output_type": "stream",
     "text": [
      "[3, 6, 9]\n"
     ]
    }
   ],
   "source": [
    "구구단 = [3,6,9,12,15]\n",
    "small_numbers=[]\n",
    "for num in 구구단:\n",
    "    if num<10:\n",
    "        small_numbers.append(num)\n",
    "print(small_numbers)"
   ]
  },
  {
   "cell_type": "markdown",
   "metadata": {},
   "source": [
    "## .upper(), .lower()"
   ]
  },
  {
   "cell_type": "code",
   "execution_count": 82,
   "metadata": {},
   "outputs": [
    {
     "name": "stdout",
     "output_type": "stream",
     "text": [
      "MY NAME IS MING.\n",
      "my name is ming.\n",
      "My name is Ming.\n",
      "my name is ming.\n"
     ]
    }
   ],
   "source": [
    "#대소문자 변환하기\n",
    "intro = 'My name is Ming.'\n",
    "print(intro.upper())\n",
    "print(intro.lower())\n",
    "print(intro) # 원래의 문자열을 수정하지 않는다.\n",
    "lower_intro=intro.lower()\n",
    "print(lower_intro)"
   ]
  },
  {
   "cell_type": "markdown",
   "metadata": {},
   "source": [
    "## .replace()"
   ]
  },
  {
   "cell_type": "code",
   "execution_count": 85,
   "metadata": {},
   "outputs": [
    {
     "name": "stdout",
     "output_type": "stream",
     "text": [
      "My name is Ming.\n",
      "My name is 밍.\n"
     ]
    }
   ],
   "source": [
    "# 문자 바꾸기\n",
    "intro = 'My name is 밍.'\n",
    "print(intro.replace('밍','Ming'))\n",
    "print(intro) # 원래의 문자열을 수정하지 않는다."
   ]
  }
 ],
 "metadata": {
  "kernelspec": {
   "display_name": "Python 3",
   "language": "python",
   "name": "python3"
  },
  "language_info": {
   "codemirror_mode": {
    "name": "ipython",
    "version": 3
   },
   "file_extension": ".py",
   "mimetype": "text/x-python",
   "name": "python",
   "nbconvert_exporter": "python",
   "pygments_lexer": "ipython3",
   "version": "3.7.4"
  }
 },
 "nbformat": 4,
 "nbformat_minor": 2
}
